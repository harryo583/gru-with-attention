{
 "cells": [
  {
   "cell_type": "markdown",
   "id": "e8d4e6f0-ffe1-4871-8d89-b4a47c9b5d67",
   "metadata": {},
   "source": [
    "<h1>Testing Data Processing with AVAX and BTC</h1>"
   ]
  },
  {
   "cell_type": "code",
   "execution_count": 1,
   "id": "585a554f-374f-41a1-8b20-e39a86e1942f",
   "metadata": {},
   "outputs": [],
   "source": [
    "import pandas as pd\n",
    "import numpy as np\n",
    "import os\n",
    "import matplotlib.pyplot as plt"
   ]
  },
  {
   "cell_type": "code",
   "execution_count": 25,
   "id": "6341b2c3-8657-4398-98a6-f394080a3135",
   "metadata": {},
   "outputs": [],
   "source": [
    "# Adds log returns for current time, as well as log returns for 5 rows before\n",
    "def data_processing(df):\n",
    "    curr = df.price\n",
    "    back1 = df.price.shift(1)\n",
    "    back2 = df.price.shift(2)\n",
    "    back3 = df.price.shift(3)\n",
    "    back4 = df.price.shift(4)\n",
    "    back5 = df.price.shift(5)\n",
    "    back6 = df.price.shift(6)\n",
    "    df[\"log_returns\"] = np.log(curr / back1)\n",
    "    df[\"log_returns_back1\"] = np.log(back1 / back2)\n",
    "    df[\"log_returns_back2\"] = np.log(back2 / back3)\n",
    "    df[\"log_returns_back3\"] = np.log(back3 / back4)\n",
    "    df[\"log_returns_back4\"] = np.log(back4 / back5)\n",
    "    df[\"log_returns_back5\"] = np.log(back5 / back6)\n",
    "\n",
    "    return df.dropna()"
   ]
  },
  {
   "cell_type": "markdown",
   "id": "7c415e61-028d-47a5-a646-2225a7de9f13",
   "metadata": {},
   "source": [
    "<h2>Importing Binance data for BTC (1/29/2024 ~ 1/30/2024)</h2>"
   ]
  },
  {
   "cell_type": "code",
   "execution_count": 14,
   "id": "cdf8384d-85c2-482d-a220-766bf682442d",
   "metadata": {},
   "outputs": [],
   "source": [
    "train_path_btc = \"/pool/btcavax/binance-usdtfutures/trades/btc/2024-01-29.csv\"\n",
    "test_path_btc = \"/pool/btcavax/binance-usdtfutures/trades/btc/2024-01-30.csv\"\n",
    "\n",
    "train_btc = pd.read_csv(train_path_btc, sep=\"|\")\n",
    "test_btc = pd.read_csv(test_path_btc, sep=\"|\")"
   ]
  },
  {
   "cell_type": "code",
   "execution_count": 15,
   "id": "7651dc94-b31a-490b-8d3d-732e8ddc7cbe",
   "metadata": {},
   "outputs": [
    {
     "name": "stdout",
     "output_type": "stream",
     "text": [
      "(3264398, 5)\n"
     ]
    },
    {
     "data": {
      "text/html": [
       "<div>\n",
       "<style scoped>\n",
       "    .dataframe tbody tr th:only-of-type {\n",
       "        vertical-align: middle;\n",
       "    }\n",
       "\n",
       "    .dataframe tbody tr th {\n",
       "        vertical-align: top;\n",
       "    }\n",
       "\n",
       "    .dataframe thead th {\n",
       "        text-align: right;\n",
       "    }\n",
       "</style>\n",
       "<table border=\"1\" class=\"dataframe\">\n",
       "  <thead>\n",
       "    <tr style=\"text-align: right;\">\n",
       "      <th></th>\n",
       "      <th>symbol</th>\n",
       "      <th>side</th>\n",
       "      <th>time</th>\n",
       "      <th>price</th>\n",
       "      <th>volume</th>\n",
       "    </tr>\n",
       "  </thead>\n",
       "  <tbody>\n",
       "    <tr>\n",
       "      <th>0</th>\n",
       "      <td>BTCUSDT</td>\n",
       "      <td>0</td>\n",
       "      <td>1706486400134000</td>\n",
       "      <td>42021.2</td>\n",
       "      <td>924.4664</td>\n",
       "    </tr>\n",
       "    <tr>\n",
       "      <th>1</th>\n",
       "      <td>BTCUSDT</td>\n",
       "      <td>1</td>\n",
       "      <td>1706486400169000</td>\n",
       "      <td>42021.3</td>\n",
       "      <td>336.1704</td>\n",
       "    </tr>\n",
       "    <tr>\n",
       "      <th>2</th>\n",
       "      <td>BTCUSDT</td>\n",
       "      <td>0</td>\n",
       "      <td>1706486400192000</td>\n",
       "      <td>42021.2</td>\n",
       "      <td>420.2120</td>\n",
       "    </tr>\n",
       "    <tr>\n",
       "      <th>3</th>\n",
       "      <td>BTCUSDT</td>\n",
       "      <td>1</td>\n",
       "      <td>1706486400229000</td>\n",
       "      <td>42021.3</td>\n",
       "      <td>4160.1087</td>\n",
       "    </tr>\n",
       "    <tr>\n",
       "      <th>4</th>\n",
       "      <td>BTCUSDT</td>\n",
       "      <td>1</td>\n",
       "      <td>1706486400235000</td>\n",
       "      <td>42021.3</td>\n",
       "      <td>126.0639</td>\n",
       "    </tr>\n",
       "  </tbody>\n",
       "</table>\n",
       "</div>"
      ],
      "text/plain": [
       "    symbol  side              time    price     volume\n",
       "0  BTCUSDT     0  1706486400134000  42021.2   924.4664\n",
       "1  BTCUSDT     1  1706486400169000  42021.3   336.1704\n",
       "2  BTCUSDT     0  1706486400192000  42021.2   420.2120\n",
       "3  BTCUSDT     1  1706486400229000  42021.3  4160.1087\n",
       "4  BTCUSDT     1  1706486400235000  42021.3   126.0639"
      ]
     },
     "execution_count": 15,
     "metadata": {},
     "output_type": "execute_result"
    }
   ],
   "source": [
    "print(train_btc.shape)\n",
    "train_btc.head()"
   ]
  },
  {
   "cell_type": "code",
   "execution_count": 16,
   "id": "29204971-2951-4648-88bd-7901a4fa6305",
   "metadata": {},
   "outputs": [
    {
     "name": "stdout",
     "output_type": "stream",
     "text": [
      "(3270538, 5)\n"
     ]
    },
    {
     "data": {
      "text/html": [
       "<div>\n",
       "<style scoped>\n",
       "    .dataframe tbody tr th:only-of-type {\n",
       "        vertical-align: middle;\n",
       "    }\n",
       "\n",
       "    .dataframe tbody tr th {\n",
       "        vertical-align: top;\n",
       "    }\n",
       "\n",
       "    .dataframe thead th {\n",
       "        text-align: right;\n",
       "    }\n",
       "</style>\n",
       "<table border=\"1\" class=\"dataframe\">\n",
       "  <thead>\n",
       "    <tr style=\"text-align: right;\">\n",
       "      <th></th>\n",
       "      <th>symbol</th>\n",
       "      <th>side</th>\n",
       "      <th>time</th>\n",
       "      <th>price</th>\n",
       "      <th>volume</th>\n",
       "    </tr>\n",
       "  </thead>\n",
       "  <tbody>\n",
       "    <tr>\n",
       "      <th>0</th>\n",
       "      <td>BTCUSDT</td>\n",
       "      <td>0</td>\n",
       "      <td>1706572800023000</td>\n",
       "      <td>43287.6</td>\n",
       "      <td>1038.9024</td>\n",
       "    </tr>\n",
       "    <tr>\n",
       "      <th>1</th>\n",
       "      <td>BTCUSDT</td>\n",
       "      <td>0</td>\n",
       "      <td>1706572800023000</td>\n",
       "      <td>43287.6</td>\n",
       "      <td>129.8628</td>\n",
       "    </tr>\n",
       "    <tr>\n",
       "      <th>2</th>\n",
       "      <td>BTCUSDT</td>\n",
       "      <td>0</td>\n",
       "      <td>1706572800023000</td>\n",
       "      <td>43287.6</td>\n",
       "      <td>692.6016</td>\n",
       "    </tr>\n",
       "    <tr>\n",
       "      <th>3</th>\n",
       "      <td>BTCUSDT</td>\n",
       "      <td>0</td>\n",
       "      <td>1706572800023000</td>\n",
       "      <td>43287.6</td>\n",
       "      <td>303.0132</td>\n",
       "    </tr>\n",
       "    <tr>\n",
       "      <th>4</th>\n",
       "      <td>BTCUSDT</td>\n",
       "      <td>0</td>\n",
       "      <td>1706572800023000</td>\n",
       "      <td>43287.6</td>\n",
       "      <td>1731.5040</td>\n",
       "    </tr>\n",
       "  </tbody>\n",
       "</table>\n",
       "</div>"
      ],
      "text/plain": [
       "    symbol  side              time    price     volume\n",
       "0  BTCUSDT     0  1706572800023000  43287.6  1038.9024\n",
       "1  BTCUSDT     0  1706572800023000  43287.6   129.8628\n",
       "2  BTCUSDT     0  1706572800023000  43287.6   692.6016\n",
       "3  BTCUSDT     0  1706572800023000  43287.6   303.0132\n",
       "4  BTCUSDT     0  1706572800023000  43287.6  1731.5040"
      ]
     },
     "execution_count": 16,
     "metadata": {},
     "output_type": "execute_result"
    }
   ],
   "source": [
    "print(test_btc.shape)\n",
    "test_btc.head()"
   ]
  },
  {
   "cell_type": "code",
   "execution_count": 35,
   "id": "b44854da-584e-4515-b6a0-6edcc43dcb25",
   "metadata": {},
   "outputs": [
    {
     "data": {
      "image/png": "[encoded data removed]",
      "text/plain": [
       "<Figure size 640x480 with 1 Axes>"
      ]
     },
     "metadata": {},
     "output_type": "display_data"
    }
   ],
   "source": [
    "buys = train_btc.loc[train_btc[\"side\"] == 0]\n",
    "x1 = buys[\"time\"]\n",
    "y1 = buys[\"price\"]\n",
    "\n",
    "sells = train_btc.loc[train_btc[\"side\"] == 1]\n",
    "x2 = sells[\"time\"]\n",
    "y2 = sells[\"price\"]\n",
    "\n",
    "plt.plot(x1, y1, label=\"buys\")\n",
    "plt.plot(x2, y2, label=\"sells\")\n",
    "\n",
    "plt.legend()\n",
    "\n",
    "plt.xlabel(\"time (ms)\")\n",
    "plt.ylabel(\"price\")\n",
    "plt.title(\"time vs. price (BTC)\")\n",
    "\n",
    "plt.show()"
   ]
  },
  {
   "cell_type": "markdown",
   "id": "3a1cd32c-1251-4a54-a97c-4928c4641510",
   "metadata": {},
   "source": [
    "<h2>Importing Binance data for AVAX (1/29/2024 ~ 1/30/2024)</h2>"
   ]
  },
  {
   "cell_type": "code",
   "execution_count": 28,
   "id": "f4621905-8e2c-4e36-a159-13123720cac3",
   "metadata": {},
   "outputs": [],
   "source": [
    "train_path_avax = \"/pool/btcavax/binance-usdtfutures/trades/avax/2024-01-29.csv\"\n",
    "test_path_avax = \"/pool/btcavax/binance-usdtfutures/trades/avax/2024-01-30.csv\"\n",
    "\n",
    "train_avax = pd.read_csv(train_path_avax, sep=\"|\")\n",
    "test_avax = pd.read_csv(test_path_avax, sep=\"|\")"
   ]
  },
  {
   "cell_type": "code",
   "execution_count": 29,
   "id": "9c81a87f-4a31-4082-a106-d4d0f9abd98c",
   "metadata": {},
   "outputs": [
    {
     "name": "stdout",
     "output_type": "stream",
     "text": [
      "(1058271, 5)\n"
     ]
    },
    {
     "data": {
      "text/html": [
       "<div>\n",
       "<style scoped>\n",
       "    .dataframe tbody tr th:only-of-type {\n",
       "        vertical-align: middle;\n",
       "    }\n",
       "\n",
       "    .dataframe tbody tr th {\n",
       "        vertical-align: top;\n",
       "    }\n",
       "\n",
       "    .dataframe thead th {\n",
       "        text-align: right;\n",
       "    }\n",
       "</style>\n",
       "<table border=\"1\" class=\"dataframe\">\n",
       "  <thead>\n",
       "    <tr style=\"text-align: right;\">\n",
       "      <th></th>\n",
       "      <th>symbol</th>\n",
       "      <th>side</th>\n",
       "      <th>time</th>\n",
       "      <th>price</th>\n",
       "      <th>volume</th>\n",
       "    </tr>\n",
       "  </thead>\n",
       "  <tbody>\n",
       "    <tr>\n",
       "      <th>0</th>\n",
       "      <td>AVAXUSDT</td>\n",
       "      <td>1</td>\n",
       "      <td>1706486400012000</td>\n",
       "      <td>34.815</td>\n",
       "      <td>34.815</td>\n",
       "    </tr>\n",
       "    <tr>\n",
       "      <th>1</th>\n",
       "      <td>AVAXUSDT</td>\n",
       "      <td>1</td>\n",
       "      <td>1706486400013000</td>\n",
       "      <td>34.815</td>\n",
       "      <td>104.445</td>\n",
       "    </tr>\n",
       "    <tr>\n",
       "      <th>2</th>\n",
       "      <td>AVAXUSDT</td>\n",
       "      <td>0</td>\n",
       "      <td>1706486400146000</td>\n",
       "      <td>34.813</td>\n",
       "      <td>208.878</td>\n",
       "    </tr>\n",
       "    <tr>\n",
       "      <th>3</th>\n",
       "      <td>AVAXUSDT</td>\n",
       "      <td>0</td>\n",
       "      <td>1706486400247000</td>\n",
       "      <td>34.811</td>\n",
       "      <td>104.433</td>\n",
       "    </tr>\n",
       "    <tr>\n",
       "      <th>4</th>\n",
       "      <td>AVAXUSDT</td>\n",
       "      <td>0</td>\n",
       "      <td>1706486400247000</td>\n",
       "      <td>34.810</td>\n",
       "      <td>139.240</td>\n",
       "    </tr>\n",
       "  </tbody>\n",
       "</table>\n",
       "</div>"
      ],
      "text/plain": [
       "     symbol  side              time   price   volume\n",
       "0  AVAXUSDT     1  1706486400012000  34.815   34.815\n",
       "1  AVAXUSDT     1  1706486400013000  34.815  104.445\n",
       "2  AVAXUSDT     0  1706486400146000  34.813  208.878\n",
       "3  AVAXUSDT     0  1706486400247000  34.811  104.433\n",
       "4  AVAXUSDT     0  1706486400247000  34.810  139.240"
      ]
     },
     "execution_count": 29,
     "metadata": {},
     "output_type": "execute_result"
    }
   ],
   "source": [
    "print(train_avax.shape)\n",
    "train_avax.head()"
   ]
  },
  {
   "cell_type": "code",
   "execution_count": 30,
   "id": "cf4bee6d-7d2c-413d-8865-c9d464e6145e",
   "metadata": {},
   "outputs": [
    {
     "name": "stdout",
     "output_type": "stream",
     "text": [
      "(943907, 5)\n"
     ]
    },
    {
     "data": {
      "text/html": [
       "<div>\n",
       "<style scoped>\n",
       "    .dataframe tbody tr th:only-of-type {\n",
       "        vertical-align: middle;\n",
       "    }\n",
       "\n",
       "    .dataframe tbody tr th {\n",
       "        vertical-align: top;\n",
       "    }\n",
       "\n",
       "    .dataframe thead th {\n",
       "        text-align: right;\n",
       "    }\n",
       "</style>\n",
       "<table border=\"1\" class=\"dataframe\">\n",
       "  <thead>\n",
       "    <tr style=\"text-align: right;\">\n",
       "      <th></th>\n",
       "      <th>symbol</th>\n",
       "      <th>side</th>\n",
       "      <th>time</th>\n",
       "      <th>price</th>\n",
       "      <th>volume</th>\n",
       "    </tr>\n",
       "  </thead>\n",
       "  <tbody>\n",
       "    <tr>\n",
       "      <th>0</th>\n",
       "      <td>AVAXUSDT</td>\n",
       "      <td>0</td>\n",
       "      <td>1706572802812000</td>\n",
       "      <td>36.041</td>\n",
       "      <td>216.246</td>\n",
       "    </tr>\n",
       "    <tr>\n",
       "      <th>1</th>\n",
       "      <td>AVAXUSDT</td>\n",
       "      <td>0</td>\n",
       "      <td>1706572802812000</td>\n",
       "      <td>36.041</td>\n",
       "      <td>36.041</td>\n",
       "    </tr>\n",
       "    <tr>\n",
       "      <th>2</th>\n",
       "      <td>AVAXUSDT</td>\n",
       "      <td>0</td>\n",
       "      <td>1706572802814000</td>\n",
       "      <td>36.041</td>\n",
       "      <td>252.287</td>\n",
       "    </tr>\n",
       "    <tr>\n",
       "      <th>3</th>\n",
       "      <td>AVAXUSDT</td>\n",
       "      <td>1</td>\n",
       "      <td>1706572802864000</td>\n",
       "      <td>36.042</td>\n",
       "      <td>180.210</td>\n",
       "    </tr>\n",
       "    <tr>\n",
       "      <th>4</th>\n",
       "      <td>AVAXUSDT</td>\n",
       "      <td>1</td>\n",
       "      <td>1706572802890000</td>\n",
       "      <td>36.042</td>\n",
       "      <td>252.294</td>\n",
       "    </tr>\n",
       "  </tbody>\n",
       "</table>\n",
       "</div>"
      ],
      "text/plain": [
       "     symbol  side              time   price   volume\n",
       "0  AVAXUSDT     0  1706572802812000  36.041  216.246\n",
       "1  AVAXUSDT     0  1706572802812000  36.041   36.041\n",
       "2  AVAXUSDT     0  1706572802814000  36.041  252.287\n",
       "3  AVAXUSDT     1  1706572802864000  36.042  180.210\n",
       "4  AVAXUSDT     1  1706572802890000  36.042  252.294"
      ]
     },
     "execution_count": 30,
     "metadata": {},
     "output_type": "execute_result"
    }
   ],
   "source": [
    "print(test_avax.shape)\n",
    "test_avax.head()"
   ]
  },
  {
   "cell_type": "code",
   "execution_count": 32,
   "id": "782bfe17-1c11-47b1-acd2-2952b9c3bb96",
   "metadata": {},
   "outputs": [
    {
     "data": {
      "image/png": "[encoded data removed]",
      "text/plain": [
       "<Figure size 640x480 with 1 Axes>"
      ]
     },
     "metadata": {},
     "output_type": "display_data"
    }
   ],
   "source": [
    "buys = train_avax.loc[train_avax[\"side\"] == 0]\n",
    "x1 = buys[\"time\"]\n",
    "y1 = buys[\"price\"]\n",
    "\n",
    "sells = train_avax.loc[train_avax[\"side\"] == 1]\n",
    "x2 = sells[\"time\"]\n",
    "y2 = sells[\"price\"]\n",
    "\n",
    "plt.plot(x1, y1, label=\"buys\")\n",
    "plt.plot(x2, y2, label=\"sells\")\n",
    "\n",
    "plt.legend()\n",
    "\n",
    "plt.xlabel(\"time (ms)\")\n",
    "plt.ylabel(\"price\")\n",
    "plt.title(\"time vs. price (AVAX)\")\n",
    "\n",
    "plt.show()"
   ]
  },
  {
   "cell_type": "code",
   "execution_count": null,
   "id": "208003cc-ac2e-4f35-a54f-90bca82dca08",
   "metadata": {},
   "outputs": [],
   "source": []
  }
 ],
 "metadata": {
  "kernelspec": {
   "display_name": "Python 3 (ipykernel)",
   "language": "python",
   "name": "python3"
  },
  "language_info": {
   "codemirror_mode": {
    "name": "ipython",
    "version": 3
   },
   "file_extension": ".py",
   "mimetype": "text/x-python",
   "name": "python",
   "nbconvert_exporter": "python",
   "pygments_lexer": "ipython3",
   "version": "3.9.19"
  }
 },
 "nbformat": 4,
 "nbformat_minor": 5
}
