{
 "cells": [
  {
   "cell_type": "markdown",
   "id": "e8d4e6f0-ffe1-4871-8d89-b4a47c9b5d67",
   "metadata": {},
   "source": [
    "<h1>Testing Data Processing with AVAX and BTC</h1>"
   ]
  },
  {
   "cell_type": "code",
   "execution_count": null,
   "id": "6341b2c3-8657-4398-98a6-f394080a3135",
   "metadata": {},
   "outputs": [],
   "source": []
  }
 ],
 "metadata": {
  "kernelspec": {
   "display_name": "Python 3 (ipykernel)",
   "language": "python",
   "name": "python3"
  },
  "language_info": {
   "codemirror_mode": {
    "name": "ipython",
    "version": 3
   },
   "file_extension": ".py",
   "mimetype": "text/x-python",
   "name": "python",
   "nbconvert_exporter": "python",
   "pygments_lexer": "ipython3",
   "version": "3.9.19"
  }
 },
 "nbformat": 4,
 "nbformat_minor": 5
}
