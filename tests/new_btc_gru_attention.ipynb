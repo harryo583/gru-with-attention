{
 "cells": [
  {
   "cell_type": "code",
   "execution_count": null,
   "metadata": {},
   "outputs": [],
   "source": [
    "import numpy as np\n",
    "import os\n",
    "import sys\n",
    "module_path = os.path.abspath(os.path.join('..'))\n",
    "if module_path not in sys.path:\n",
    "    sys.path.append(module_path)\n",
    "import pandas as pd\n",
    "import torch\n",
    "from torch.utils.data import Dataset, DataLoader\n",
    "import torch.nn as nn\n",
    "import torch.optim as optim\n",
    "import matplotlib.pyplot as plt \n",
    "from models.gru import GRU\n",
    "from losses.correlation_loss import CorrelationLoss\n",
    "from losses.hybrid_loss import HybridLoss\n",
    "from models.attention_gru import AttentionGRU\n",
    "import gc"
   ]
  },
  {
   "cell_type": "code",
   "execution_count": null,
   "metadata": {},
   "outputs": [],
   "source": [
    "train_path = \"../datasets/btc-2024-11-24.csv\"\n",
    "test_path = \"../datasets/btc-2024-11-25.csv\"\n",
    "# train_path = \"/pool/btcavax/binance-usdtfutures/depth-25/btc/2024-11-24.csv\"\n",
    "# test_path = \"/pool/btcavax/binance-usdtfutures/depth-25/btc/2024-11-25.csv\"\n",
    "\n",
    "df1 = pd.read_csv(train_path, sep=\"|\")\n",
    "df2 = pd.read_csv(test_path, sep=\"|\")\n",
    "\n",
    "data_df = pd.concat([df1, df2])\n",
    "del df1\n",
    "del df2"
   ]
  },
  {
   "cell_type": "code",
   "execution_count": null,
   "metadata": {},
   "outputs": [],
   "source": [
    "split_idx = int(len(data_df) * 0.8)\n",
    "train_df = data_df.iloc[:split_idx].copy()\n",
    "test_df = data_df.iloc[split_idx:].copy()"
   ]
  },
  {
   "cell_type": "code",
   "execution_count": null,
   "metadata": {},
   "outputs": [],
   "source": [
    "for dataset in [train_df, test_df]:\n",
    "    dataset[\"datetime\"] = pd.to_datetime(dataset[\"time\"], unit=\"us\")\n",
    "    dataset.set_index(\"datetime\", inplace=True)\n",
    "\n",
    "    dataset[\"ofi\"] = (dataset[\"bid_0_price\"].diff() > 0) * dataset[\"bid_0_size\"] \\\n",
    "        - (dataset[\"bid_0_price\"].diff() < 0) * dataset[\"bid_0_size\"].shift(1) \\\n",
    "        + (dataset[\"ask_0_price\"].diff() < 0) * dataset[\"ask_0_size\"] \\\n",
    "        - (dataset[\"ask_0_price\"].diff() > 0) * dataset[\"ask_0_size\"].shift(1)\n",
    "\n",
    "agg_dict = {key: \"last\" for key in train_df.columns}\n",
    "agg_dict[\"ofi\"] = \"sum\"\n",
    "\n",
    "train_df = train_df.resample(\"1s\").agg(agg_dict).ffill() # there are some seconds where no updates occur\n",
    "test_df = test_df.resample(\"1s\").agg(agg_dict).ffill()"
   ]
  },
  {
   "cell_type": "code",
   "execution_count": null,
   "metadata": {},
   "outputs": [],
   "source": [
    "import itertools\n",
    "for dataset in [train_df, test_df]:\n",
    "    dataset[\"midprice\"] = (dataset[\"bid_0_price\"] + dataset[\"ask_0_price\"]) / 2\n",
    "    dataset[\"bid_volume\"] = dataset[[f\"bid_{i}_size\" for i in range(25)]].sum(axis=1)\n",
    "    dataset[\"ask_volume\"] = dataset[[f\"ask_{i}_size\" for i in range(25)]].sum(axis=1)\n",
    "    dataset[\"total_volume\"] = dataset[\"bid_volume\"] + dataset[\"ask_volume\"]\n",
    "    dataset[\"spread\"] = (dataset[\"ask_0_price\"] - dataset[\"bid_0_price\"]) / dataset[\"ask_0_price\"]\n",
    "    dataset[\"log_return\"] = np.log(dataset[\"midprice\"]) - np.log(dataset[\"midprice\"].shift(1))\n",
    "    dataset[\"ob_imb\"] = (dataset[\"bid_volume\"] - dataset[\"ask_volume\"]) / (dataset[\"total_volume\"])\n",
    "    dataset[\"vwap\"] = (dataset[\"midprice\"] * dataset[\"total_volume\"]).cumsum() / dataset[\"total_volume\"].cumsum()\n",
    "\n",
    "    dataset[\"target_log_return\"] = dataset[\"log_return\"].shift(-1)\n",
    "    \n",
    "lagged_features = [\"log_return\", \"vwap\", \"spread\", \"midprice\"]\n",
    "lagged_col_names = []\n",
    "\n",
    "for (dataset, lag, feature) in itertools.product([train_df, test_df], [1, 10, 60], lagged_features):\n",
    "    dataset[f\"{feature}_lag_{lag}\"] = dataset[feature].shift(lag)\n",
    "    lagged_col_names.append(f\"{feature}_lag_{lag}\")\n",
    "\n",
    "for dataset in [train_df, test_df]:\n",
    "    dataset.dropna(inplace=True)"
   ]
  },
  {
   "cell_type": "code",
   "execution_count": null,
   "metadata": {},
   "outputs": [],
   "source": [
    "feature_cols = [\"midprice\", \"bid_volume\", \"ask_volume\", \"total_volume\", \"spread\", \"log_return\", \"ob_imb\", \"vwap\", \"ofi\"] \\\n",
    "    + [f\"bid_{i}_size\" for i in range(2)] \\\n",
    "    + [f\"bid_{i}_price\" for i in range(2)] \\\n",
    "    + [f\"ask_{i}_size\" for i in range(2)] \\\n",
    "    + [f\"ask_{i}_price\" for i in range(2)] \\\n",
    "    + lagged_col_names\n",
    "\n",
    "target_cols = [\"target_log_return\"]"
   ]
  },
  {
   "cell_type": "code",
   "execution_count": null,
   "metadata": {},
   "outputs": [],
   "source": [
    "class BtcDataset(Dataset):\n",
    "    def __init__(self, features, targets):\n",
    "        self.features = features\n",
    "        self.targets = targets\n",
    "\n",
    "    def __len__(self):\n",
    "        return len(self.features)\n",
    "\n",
    "    def __getitem__(self, idx):\n",
    "        return self.features[idx], self.targets[idx]"
   ]
  },
  {
   "cell_type": "code",
   "execution_count": null,
   "metadata": {},
   "outputs": [],
   "source": [
    "# Create sequences for AttentionGRU\n",
    "def create_sequences(features, targets, seq_length=5):\n",
    "    X, y = [], []\n",
    "    for i in range(len(features) - seq_length):\n",
    "        X.append(features[i:i + seq_length])\n",
    "        y.append(targets[i + seq_length])\n",
    "    return torch.stack(X), torch.stack(y)"
   ]
  },
  {
   "cell_type": "code",
   "execution_count": null,
   "metadata": {},
   "outputs": [],
   "source": [
    "PARAMS = {\n",
    "    \"sequence_length\": 20,\n",
    "    \"hidden_dim\": 64,\n",
    "    \"epochs\": 20,\n",
    "    \"batch_size\": 32,\n",
    "    \"lr\": 0.001,\n",
    "}\n",
    "device = torch.device(\"cuda\" if torch.cuda.is_available() else \"cpu\")"
   ]
  },
  {
   "cell_type": "code",
   "execution_count": null,
   "metadata": {},
   "outputs": [],
   "source": [
    "train_features_df = train_df[feature_cols]\n",
    "train_targets_df = train_df[target_cols]\n",
    "\n",
    "test_features_df = test_df[feature_cols]\n",
    "test_targets_df = test_df[target_cols]\n",
    "\n",
    "train_features = torch.tensor(train_features_df.values, dtype=torch.float32).to(device)\n",
    "train_targets = torch.tensor(train_targets_df.values, dtype=torch.float32).to(device)\n",
    "test_features = torch.tensor(test_features_df.values, dtype=torch.float32).to(device)\n",
    "test_targets = torch.tensor(test_targets_df.values, dtype=torch.float32).to(device)\n",
    "\n",
    "train_features, train_targets = create_sequences(train_features, train_targets, PARAMS[\"sequence_length\"])\n",
    "test_features, test_targets = create_sequences(test_features, test_targets, PARAMS[\"sequence_length\"])"
   ]
  },
  {
   "cell_type": "code",
   "execution_count": null,
   "metadata": {},
   "outputs": [],
   "source": [
    "train_dataset = BtcDataset(train_features, train_targets)\n",
    "test_dataset = BtcDataset(test_features, test_targets)\n",
    "\n",
    "train_loader = DataLoader(train_dataset, batch_size=PARAMS[\"batch_size\"], shuffle=False)\n",
    "test_loader = DataLoader(test_dataset, batch_size=PARAMS[\"batch_size\"], shuffle=False)"
   ]
  },
  {
   "cell_type": "code",
   "execution_count": null,
   "metadata": {},
   "outputs": [],
   "source": [
    "gru_model = GRU(input_size=len(feature_cols), hidden_size=PARAMS[\"hidden_dim\"], output_size=len(target_cols), device=device).to(device)\n",
    "criterion = HybridLoss()\n",
    "optimizer = torch.optim.Adam(gru_model.parameters(), lr=PARAMS[\"lr\"])\n",
    "\n",
    "for epoch in range(PARAMS[\"epochs\"]):\n",
    "    gru_model.train()  # Set the gru_model to training mode\n",
    "    running_loss = 0.0\n",
    "    for inputs, targets in train_loader:\n",
    "        inputs, targets = inputs.float(), targets.float()\n",
    "\n",
    "        optimizer.zero_grad()\n",
    "\n",
    "        outputs = gru_model(inputs)\n",
    "\n",
    "        loss = criterion(outputs, targets)\n",
    "        running_loss += loss.item()\n",
    "\n",
    "        loss.backward()\n",
    "        optimizer.step()\n",
    "\n",
    "    avg_train_loss = running_loss / len(train_loader)\n",
    "    print(f\"Epoch {epoch+1}/{PARAMS[\"epochs\"]}, Training Loss: {avg_train_loss:.4f}\")"
   ]
  },
  {
   "cell_type": "code",
   "execution_count": null,
   "metadata": {},
   "outputs": [],
   "source": [
    "attention_gru = AttentionGRU(len(feature_cols), PARAMS[\"hidden_dim\"], len(feature_cols), len(target_cols), device).to(device)\n",
    "criterion = HybridLoss()\n",
    "optimizer = torch.optim.Adam(attention_gru.parameters(), lr=PARAMS[\"lr\"])\n",
    "\n",
    "for epoch in range(PARAMS[\"epochs\"]):\n",
    "    attention_gru.train()\n",
    "    epoch_loss = 0\n",
    "\n",
    "    for batch_features, batch_targets in train_loader:\n",
    "        optimizer.zero_grad()\n",
    "        outputs, _ = attention_gru(batch_features, batch_features)\n",
    "        loss = criterion(outputs[:, -1, :], batch_targets)\n",
    "        loss.backward()\n",
    "        torch.nn.utils.clip_grad_norm_(attention_gru.parameters(), max_norm=1.0)\n",
    "\n",
    "        optimizer.step()\n",
    "        epoch_loss += loss.item()\n",
    "    print(f\"epoch: {epoch+1}, loss: {epoch_loss/len(train_loader)}\")"
   ]
  },
  {
   "cell_type": "code",
   "execution_count": null,
   "metadata": {},
   "outputs": [],
   "source": [
    "def evaluate_model(model, test_loader, device):\n",
    "    model.eval()\n",
    "    total_loss = 0.0\n",
    "    all_predictions = []\n",
    "    all_targets = []\n",
    "    \n",
    "    with torch.no_grad():\n",
    "        for batch_features, batch_targets in test_loader:\n",
    "            # Move data to device\n",
    "            batch_features = batch_features.to(device)\n",
    "            batch_targets = batch_targets.to(device)\n",
    "            \n",
    "            # Get model predictions\n",
    "            predictions = model(batch_features)\n",
    "            \n",
    "            # Take the last time step predictions\n",
    "            # predictions = predictions[:, -1, :]\n",
    "\n",
    "            loss = criterion(predictions, batch_targets)\n",
    "            total_loss += loss.item()\n",
    "            \n",
    "            # Collect predictions and targets\n",
    "            all_predictions.append(predictions.cpu().numpy())\n",
    "            all_targets.append(batch_targets.cpu().numpy())\n",
    "    \n",
    "    # Concatenate all predictions and targets\n",
    "    all_predictions = np.concatenate(all_predictions, axis=0)\n",
    "    all_targets = np.concatenate(all_targets, axis=0)\n",
    "\n",
    "    return all_predictions, all_targets, total_loss / len(test_loader)\n",
    "\n",
    "def plot_results(y_true, y_pred, feature_name, feature_index):\n",
    "    plt.figure(figsize=(12, 6))\n",
    "    plt.plot(y_true[:, feature_index], label=\"Actual\", linestyle='', marker='o')\n",
    "    plt.plot(y_pred[:, feature_index], label=\"Predicted\", linestyle='', marker='x')\n",
    "    plt.title(f\"Actual vs Predicted {feature_name}\", fontsize=16)\n",
    "    plt.xlabel(\"Timestep\", fontsize=14)\n",
    "    plt.ylabel(feature_name, fontsize=14)\n",
    "    plt.legend(fontsize=14)\n",
    "    plt.grid(True)\n",
    "    plt.show()"
   ]
  },
  {
   "cell_type": "code",
   "execution_count": null,
   "metadata": {},
   "outputs": [],
   "source": [
    "# Evaluate the model\n",
    "predictions, targets, loss = evaluate_model(attention_gru, test_loader, device)\n",
    "print(\"loss:\", loss)"
   ]
  },
  {
   "cell_type": "code",
   "execution_count": null,
   "metadata": {},
   "outputs": [],
   "source": [
    "residuals = targets - predictions"
   ]
  },
  {
   "cell_type": "code",
   "execution_count": null,
   "metadata": {},
   "outputs": [],
   "source": [
    "corr_loss = CorrelationLoss()\n",
    "corr_loss(torch.from_numpy(targets), torch.from_numpy(predictions))"
   ]
  },
  {
   "cell_type": "code",
   "execution_count": null,
   "metadata": {},
   "outputs": [],
   "source": [
    "plt.plot(residuals, linestyle='', marker='.')"
   ]
  },
  {
   "cell_type": "code",
   "execution_count": null,
   "metadata": {},
   "outputs": [],
   "source": [
    "corr_loss(targets, predictions)"
   ]
  },
  {
   "cell_type": "code",
   "execution_count": null,
   "metadata": {},
   "outputs": [],
   "source": [
    "residuals.std()"
   ]
  },
  {
   "cell_type": "code",
   "execution_count": null,
   "metadata": {},
   "outputs": [],
   "source": [
    "plot_results(targets, predictions, \"log return\", 0)"
   ]
  }
 ],
 "metadata": {
  "kernelspec": {
   "display_name": "venv",
   "language": "python",
   "name": "python3"
  },
  "language_info": {
   "codemirror_mode": {
    "name": "ipython",
    "version": 3
   },
   "file_extension": ".py",
   "mimetype": "text/x-python",
   "name": "python",
   "nbconvert_exporter": "python",
   "pygments_lexer": "ipython3",
   "version": "3.12.4"
  }
 },
 "nbformat": 4,
 "nbformat_minor": 2
}
